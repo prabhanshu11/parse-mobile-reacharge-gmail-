{
 "cells": [
  {
   "cell_type": "code",
   "execution_count": 12,
   "metadata": {},
   "outputs": [],
   "source": [
    "import pickle\n",
    "import os.path\n",
    "import datetime\n",
    "import re\n",
    "from pprint import pprint\n",
    "import pandas as pd"
   ]
  },
  {
   "cell_type": "code",
   "execution_count": 13,
   "metadata": {},
   "outputs": [],
   "source": [
    "SCOPES = 'https://www.googleapis.com/auth/gmail.readonly'\n",
    "from googleapiclient.discovery import build\n",
    "from google_auth_oauthlib.flow import InstalledAppFlow\n",
    "from google.auth.transport.requests import Request\n",
    "from httplib2 import Http\n",
    "import base64, html2text\n",
    "from IPython.display import clear_output"
   ]
  },
  {
   "cell_type": "code",
   "execution_count": 14,
   "metadata": {
    "scrolled": true
   },
   "outputs": [
    {
     "data": {
      "text/plain": [
       "{'labels': [{'id': 'CHAT',\n",
       "   'name': 'CHAT',\n",
       "   'messageListVisibility': 'hide',\n",
       "   'labelListVisibility': 'labelHide',\n",
       "   'type': 'system'},\n",
       "  {'id': 'SENT', 'name': 'SENT', 'type': 'system'},\n",
       "  {'id': 'INBOX',\n",
       "   'name': 'INBOX',\n",
       "   'messageListVisibility': 'hide',\n",
       "   'labelListVisibility': 'labelShow',\n",
       "   'type': 'system'},\n",
       "  {'id': 'IMPORTANT', 'name': 'IMPORTANT', 'type': 'system'},\n",
       "  {'id': 'TRASH',\n",
       "   'name': 'TRASH',\n",
       "   'messageListVisibility': 'hide',\n",
       "   'labelListVisibility': 'labelHide',\n",
       "   'type': 'system'},\n",
       "  {'id': 'DRAFT',\n",
       "   'name': 'DRAFT',\n",
       "   'messageListVisibility': 'hide',\n",
       "   'labelListVisibility': 'labelShow',\n",
       "   'type': 'system'},\n",
       "  {'id': 'SPAM',\n",
       "   'name': 'SPAM',\n",
       "   'messageListVisibility': 'hide',\n",
       "   'labelListVisibility': 'labelHide',\n",
       "   'type': 'system'},\n",
       "  {'id': 'CATEGORY_FORUMS', 'name': 'CATEGORY_FORUMS', 'type': 'system'},\n",
       "  {'id': 'CATEGORY_UPDATES', 'name': 'CATEGORY_UPDATES', 'type': 'system'},\n",
       "  {'id': 'CATEGORY_PERSONAL', 'name': 'CATEGORY_PERSONAL', 'type': 'system'},\n",
       "  {'id': 'CATEGORY_PROMOTIONS',\n",
       "   'name': 'CATEGORY_PROMOTIONS',\n",
       "   'type': 'system'},\n",
       "  {'id': 'CATEGORY_SOCIAL', 'name': 'CATEGORY_SOCIAL', 'type': 'system'},\n",
       "  {'id': 'STARRED', 'name': 'STARRED', 'type': 'system'},\n",
       "  {'id': 'UNREAD', 'name': 'UNREAD', 'type': 'system'},\n",
       "  {'id': 'Label_1', 'name': '[Imap]/Trash', 'type': 'user'},\n",
       "  {'id': 'Label_415740810534938348', 'name': 'iob', 'type': 'user'},\n",
       "  {'id': 'Label_7089658058065526456',\n",
       "   'name': 'IEEE',\n",
       "   'messageListVisibility': 'show',\n",
       "   'labelListVisibility': 'labelShow',\n",
       "   'type': 'user'},\n",
       "  {'id': 'Label_7685221689841292871', 'name': 'UPGRAD', 'type': 'user'},\n",
       "  {'id': 'Label_7716397114450993309', 'name': 'ncat', 'type': 'user'},\n",
       "  {'id': 'Label_7954461357023349808',\n",
       "   'name': '5 bullet friday',\n",
       "   'messageListVisibility': 'show',\n",
       "   'labelListVisibility': 'labelShow',\n",
       "   'type': 'user',\n",
       "   'color': {'textColor': '#7a2e0b', 'backgroundColor': '#ffc8af'}}]}"
      ]
     },
     "execution_count": 14,
     "metadata": {},
     "output_type": "execute_result"
    }
   ],
   "source": [
    "with open('token.pickle', 'rb') as token:\n",
    "    credentials = pickle.load(token)\n",
    "service = build('gmail','v1',credentials=credentials)\n",
    "results = service.users().labels().list(userId='me').execute()\n",
    "results"
   ]
  },
  {
   "cell_type": "code",
   "execution_count": 39,
   "metadata": {
    "scrolled": true
   },
   "outputs": [],
   "source": [
    "results = service.users().messages().list(\n",
    "    userId='me',\n",
    "    q='jio recharge successful <phone_number>').execute()"
   ]
  },
  {
   "cell_type": "code",
   "execution_count": 42,
   "metadata": {},
   "outputs": [
    {
     "data": {
      "text/plain": [
       "[{'id': '1781c369de7cad84', 'threadId': '1781c369de7cad84'},\n",
       " {'id': '177f2e9db8a51319', 'threadId': '177f2e9db8a51319'},\n",
       " {'id': '177de6f5352a6bad', 'threadId': '177de6f5352a6bad'},\n",
       " {'id': '1776e619514f631e', 'threadId': '1776e619514f631e'},\n",
       " {'id': '1776e6193386d0d4', 'threadId': '1776e6193386d0d4'}]"
      ]
     },
     "execution_count": 42,
     "metadata": {},
     "output_type": "execute_result"
    }
   ],
   "source": [
    "results['messages'][:5]"
   ]
  },
  {
   "cell_type": "code",
   "execution_count": 17,
   "metadata": {},
   "outputs": [
    {
     "name": "stdout",
     "output_type": "stream",
     "text": [
      "Number of emails parsed =  83 \n",
      "Done\n"
     ]
    }
   ],
   "source": [
    "messages = results.get('messages')\n",
    "i=0\n",
    "recharges=[]\n",
    "for msg in messages:\n",
    "    i += 1\n",
    "    message = service.users().messages().get(\n",
    "        userId='me',id=msg['id'],format='full').execute()\n",
    "    m=message['payload']\n",
    "    d=message['internalDate']\n",
    "    recharges.append((m,d))\n",
    "    print('Number of emails parsed = ',i,flush=True)\n",
    "    clear_output(wait=True)\n",
    "print('Number of emails parsed = ',i,'\\nDone')"
   ]
  },
  {
   "cell_type": "code",
   "execution_count": 18,
   "metadata": {},
   "outputs": [],
   "source": [
    "with open('recharge.pickle', 'wb') as f:\n",
    "    pickle.dump(recharges,f)"
   ]
  },
  {
   "cell_type": "code",
   "execution_count": 19,
   "metadata": {},
   "outputs": [],
   "source": [
    "with open('recharge.pickle', 'rb') as f: \n",
    "    recharges = pickle.load(f)"
   ]
  },
  {
   "cell_type": "code",
   "execution_count": 23,
   "metadata": {},
   "outputs": [],
   "source": [
    "def email_decoder(m):\n",
    "    \"\"\"\n",
    "    Converts an html formatted b64encoded string into\n",
    "    utf8 string.\n",
    "    \"\"\"\n",
    "    b = base64.urlsafe_b64decode(m)\n",
    "    t = html2text.html2text(b.decode('utf-8'))\n",
    "    return t\n",
    "\n",
    "def sensible_date2str(x: datetime.date) -> str:\n",
    "    \"\"\"\n",
    "    Returns string of the form:\n",
    "    '15-Dec-2012'\n",
    "    \"\"\"\n",
    "    return x.strftime(\"%d-%b-%Y\")\n",
    "\n",
    "def ms2ctime(t):\n",
    "    \"\"\"\n",
    "    Converts unix time (time since 1st January 1970 UTC) in \n",
    "    milliseconds into ctime.\n",
    "    \"\"\"\n",
    "    t=int(t)/1000\n",
    "    t = datetime.datetime.fromtimestamp(int(t))\n",
    "    return sensible_date2str(t)\n",
    "\n",
    "def regexer(string):\n",
    "    pattern = re.compile(r\"\"\"\n",
    "    (?<=Rs\\. ).*?(?= is)| # (negative look \"Rs. \")(match)(positive look \" is\")\n",
    "    (?<=mber ).*?(?=\\.)|  # phone number\n",
    "    (?<=)\\d*?(?=[ ]?GB )| # total data\n",
    "    ...\\W?\\wB(?=\\/Day)   # ...(match any 3)(match 0or1 [space])(match 'B')\n",
    "    \"\"\", re.VERBOSE)\n",
    "    return re.findall(pattern, string)\n",
    "\n",
    "def get_recursively(search_dict, field):\n",
    "    \"\"\"\n",
    "    Takes a dict with nested lists and dicts,\n",
    "    and searches all dicts for a key of the field\n",
    "    provided.\n",
    "    \"\"\"\n",
    "    fields_found = []\n",
    "    for key, value in search_dict.items():\n",
    "        if key == field:\n",
    "            fields_found.append(value)\n",
    "        elif isinstance(value, dict):\n",
    "            results = get_recursively(value, field)\n",
    "            for result in results:\n",
    "                fields_found.append(result)\n",
    "        elif isinstance(value, list):\n",
    "            for item in value:\n",
    "                if isinstance(item, dict):\n",
    "                    more_results = get_recursively(item, field)\n",
    "                    for another_result in more_results:\n",
    "                        fields_found.append(another_result)\n",
    "    return fields_found"
   ]
  },
  {
   "cell_type": "code",
   "execution_count": 24,
   "metadata": {},
   "outputs": [],
   "source": [
    "rechrgs = []\n",
    "for i in range(len(recharges)):\n",
    "    x = get_recursively(recharges[i][0], 'data')\n",
    "    y = email_decoder(x[0])\n",
    "    z = regexer(y)\n",
    "    _date = ms2ctime(recharges[i][1])\n",
    "    try:\n",
    "        d = dict(date=_date,rupees=z[0], data_GB=z[2], per_day=z[-1])\n",
    "    except: continue\n",
    "    rechrgs.append(d)"
   ]
  },
  {
   "cell_type": "code",
   "execution_count": 30,
   "metadata": {
    "scrolled": true
   },
   "outputs": [
    {
     "name": "stdout",
     "output_type": "stream",
     "text": [
      "[     {     'date': '10-Mar-2021',\n",
      "            'rupees': ' 555.00 ',\n",
      "            'data_GB': '126',\n",
      "            'per_day': '1.5 GB'},\n",
      "      {     'date': '02-Mar-2021',\n",
      "            'rupees': ' 251.00 ',\n",
      "            'data_GB': '50',\n",
      "            'per_day': ''},\n",
      "      {     'date': '26-Feb-2021',\n",
      "            'rupees': ' 21.00 ',\n",
      "            'data_GB': '2',\n",
      "            'per_day': ''},\n",
      "      {     'date': '05-Feb-2021',\n",
      "            'rupees': ' 251.00 ',\n",
      "            'data_GB': '50',\n",
      "            'per_day': ''},\n",
      "      {     'date': '16-Jan-2021',\n",
      "            'rupees': ' 251.00 ',\n",
      "            'data_GB': '50',\n",
      "            'per_day': ''}]\n"
     ]
    }
   ],
   "source": [
    "pprint(rechrgs[:5], indent=6, sort_dicts=False)"
   ]
  },
  {
   "cell_type": "code",
   "execution_count": 26,
   "metadata": {},
   "outputs": [
    {
     "data": {
      "text/html": [
       "<div>\n",
       "<style scoped>\n",
       "    .dataframe tbody tr th:only-of-type {\n",
       "        vertical-align: middle;\n",
       "    }\n",
       "\n",
       "    .dataframe tbody tr th {\n",
       "        vertical-align: top;\n",
       "    }\n",
       "\n",
       "    .dataframe thead th {\n",
       "        text-align: right;\n",
       "    }\n",
       "</style>\n",
       "<table border=\"1\" class=\"dataframe\">\n",
       "  <thead>\n",
       "    <tr style=\"text-align: right;\">\n",
       "      <th></th>\n",
       "      <th>date</th>\n",
       "      <th>rupees</th>\n",
       "      <th>data_GB</th>\n",
       "      <th>per_day</th>\n",
       "    </tr>\n",
       "  </thead>\n",
       "  <tbody>\n",
       "    <tr>\n",
       "      <th>0</th>\n",
       "      <td>10-Mar-2021</td>\n",
       "      <td>555.00</td>\n",
       "      <td>126</td>\n",
       "      <td>1.5 GB</td>\n",
       "    </tr>\n",
       "    <tr>\n",
       "      <th>1</th>\n",
       "      <td>02-Mar-2021</td>\n",
       "      <td>251.00</td>\n",
       "      <td>50</td>\n",
       "      <td></td>\n",
       "    </tr>\n",
       "    <tr>\n",
       "      <th>2</th>\n",
       "      <td>26-Feb-2021</td>\n",
       "      <td>21.00</td>\n",
       "      <td>2</td>\n",
       "      <td></td>\n",
       "    </tr>\n",
       "    <tr>\n",
       "      <th>3</th>\n",
       "      <td>05-Feb-2021</td>\n",
       "      <td>251.00</td>\n",
       "      <td>50</td>\n",
       "      <td></td>\n",
       "    </tr>\n",
       "    <tr>\n",
       "      <th>4</th>\n",
       "      <td>16-Jan-2021</td>\n",
       "      <td>251.00</td>\n",
       "      <td>50</td>\n",
       "      <td></td>\n",
       "    </tr>\n",
       "  </tbody>\n",
       "</table>\n",
       "</div>"
      ],
      "text/plain": [
       "          date    rupees data_GB per_day\n",
       "0  10-Mar-2021   555.00      126  1.5 GB\n",
       "1  02-Mar-2021   251.00       50        \n",
       "2  26-Feb-2021    21.00        2        \n",
       "3  05-Feb-2021   251.00       50        \n",
       "4  16-Jan-2021   251.00       50        "
      ]
     },
     "execution_count": 26,
     "metadata": {},
     "output_type": "execute_result"
    }
   ],
   "source": [
    "df = pd.DataFrame(rechrgs)\n",
    "df.head()"
   ]
  },
  {
   "cell_type": "code",
   "execution_count": 27,
   "metadata": {},
   "outputs": [],
   "source": [
    "def diff_days(date_string):\n",
    "    diff = datetime.datetime.today() - datetime.datetime.strptime(date_string,'%d-%b-%Y')\n",
    "    return diff.days"
   ]
  },
  {
   "cell_type": "code",
   "execution_count": 28,
   "metadata": {},
   "outputs": [],
   "source": [
    "df['Days_since'] = df['date'].apply(diff_days)"
   ]
  },
  {
   "cell_type": "code",
   "execution_count": 29,
   "metadata": {},
   "outputs": [
    {
     "data": {
      "text/html": [
       "<div>\n",
       "<style scoped>\n",
       "    .dataframe tbody tr th:only-of-type {\n",
       "        vertical-align: middle;\n",
       "    }\n",
       "\n",
       "    .dataframe tbody tr th {\n",
       "        vertical-align: top;\n",
       "    }\n",
       "\n",
       "    .dataframe thead th {\n",
       "        text-align: right;\n",
       "    }\n",
       "</style>\n",
       "<table border=\"1\" class=\"dataframe\">\n",
       "  <thead>\n",
       "    <tr style=\"text-align: right;\">\n",
       "      <th></th>\n",
       "      <th>date</th>\n",
       "      <th>rupees</th>\n",
       "      <th>data_GB</th>\n",
       "      <th>per_day</th>\n",
       "      <th>Days_since</th>\n",
       "    </tr>\n",
       "  </thead>\n",
       "  <tbody>\n",
       "    <tr>\n",
       "      <th>0</th>\n",
       "      <td>10-Mar-2021</td>\n",
       "      <td>555.00</td>\n",
       "      <td>126</td>\n",
       "      <td>1.5 GB</td>\n",
       "      <td>3</td>\n",
       "    </tr>\n",
       "    <tr>\n",
       "      <th>1</th>\n",
       "      <td>02-Mar-2021</td>\n",
       "      <td>251.00</td>\n",
       "      <td>50</td>\n",
       "      <td></td>\n",
       "      <td>11</td>\n",
       "    </tr>\n",
       "    <tr>\n",
       "      <th>2</th>\n",
       "      <td>26-Feb-2021</td>\n",
       "      <td>21.00</td>\n",
       "      <td>2</td>\n",
       "      <td></td>\n",
       "      <td>15</td>\n",
       "    </tr>\n",
       "    <tr>\n",
       "      <th>3</th>\n",
       "      <td>05-Feb-2021</td>\n",
       "      <td>251.00</td>\n",
       "      <td>50</td>\n",
       "      <td></td>\n",
       "      <td>36</td>\n",
       "    </tr>\n",
       "    <tr>\n",
       "      <th>4</th>\n",
       "      <td>16-Jan-2021</td>\n",
       "      <td>251.00</td>\n",
       "      <td>50</td>\n",
       "      <td></td>\n",
       "      <td>56</td>\n",
       "    </tr>\n",
       "  </tbody>\n",
       "</table>\n",
       "</div>"
      ],
      "text/plain": [
       "          date    rupees data_GB per_day  Days_since\n",
       "0  10-Mar-2021   555.00      126  1.5 GB           3\n",
       "1  02-Mar-2021   251.00       50                  11\n",
       "2  26-Feb-2021    21.00        2                  15\n",
       "3  05-Feb-2021   251.00       50                  36\n",
       "4  16-Jan-2021   251.00       50                  56"
      ]
     },
     "execution_count": 29,
     "metadata": {},
     "output_type": "execute_result"
    }
   ],
   "source": [
    "df.head()"
   ]
  }
 ],
 "metadata": {
  "kernelspec": {
   "display_name": "Python 3",
   "language": "python",
   "name": "python3"
  },
  "language_info": {
   "codemirror_mode": {
    "name": "ipython",
    "version": 3
   },
   "file_extension": ".py",
   "mimetype": "text/x-python",
   "name": "python",
   "nbconvert_exporter": "python",
   "pygments_lexer": "ipython3",
   "version": "3.8.5"
  },
  "widgets": {
   "application/vnd.jupyter.widget-state+json": {
    "state": {},
    "version_major": 2,
    "version_minor": 0
   }
  }
 },
 "nbformat": 4,
 "nbformat_minor": 4
}
